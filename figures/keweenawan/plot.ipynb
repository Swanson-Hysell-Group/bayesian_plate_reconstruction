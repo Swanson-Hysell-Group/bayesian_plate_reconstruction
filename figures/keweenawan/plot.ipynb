{
 "cells": [
  {
   "cell_type": "code",
   "execution_count": null,
   "metadata": {
    "collapsed": false
   },
   "outputs": [],
   "source": [
    "import apw_path\n",
    "import plotting\n",
    "import matplotlib.pyplot as plt\n",
    "import cartopy.crs as ccrs\n",
    "from cartopy.io.shapereader import Reader\n",
    "from cartopy.feature import ShapelyFeature\n",
    "%matplotlib inline\n",
    "\n",
    "fname = 'Laurentia_shape/Laurentia.shp'\n",
    "laurentia = ShapelyFeature(Reader(fname).geometries(),\n",
    "            ccrs.PlateCarree(apw_path.lon_shift),\n",
    "            edgecolor='black', facecolor='#F5DEB3')"
   ]
  },
  {
   "cell_type": "code",
   "execution_count": null,
   "metadata": {
    "collapsed": false
   },
   "outputs": [],
   "source": [
    "path1, poles, pole_names, pole_colors = apw_path.create_model(0, True)\n",
    "apw_path.load_or_sample_model(path1)\n",
    "\n",
    "path2, _, _, _ = apw_path.create_model(1, False)\n",
    "apw_path.load_or_sample_model(path2)\n",
    "\n",
    "path3, _, _, _ = apw_path.create_model(1, True)\n",
    "apw_path.load_or_sample_model(path3)\n",
    "\n",
    "path4, _, _, _ = apw_path.create_model(2, False)\n",
    "apw_path.load_or_sample_model(path4)\n",
    "\n",
    "path5, _, _, _ = apw_path.create_model(2, True)\n",
    "apw_path.load_or_sample_model(path5)"
   ]
  },
  {
   "cell_type": "code",
   "execution_count": null,
   "metadata": {
    "collapsed": false
   },
   "outputs": [],
   "source": [
    "fig = plt.figure(figsize=(8,11))\n",
    "\n",
    "index = 1\n",
    "def plot_row(path, title):\n",
    "    global index\n",
    "    ax1 = fig.add_subplot(4,3,index, projection = ccrs.Orthographic(240.-apw_path.lon_shift, -20))\n",
    "        \n",
    "    ax2 = fig.add_subplot(4,3,index+1, projection = ccrs.Orthographic(200-apw_path.lon_shift,30.))\n",
    "    ax3 = fig.add_subplot(4,3,index+2)\n",
    "    plotting.plot_synthetic_paths(path, poles, pole_colors, ax1)\n",
    "    ax1.add_feature(laurentia)\n",
    "    plotting.plot_synthetic_poles(path, poles, pole_colors, ax2)\n",
    "    plotting.plot_plate_speeds(path, poles, ax3)\n",
    "    if index == 1:\n",
    "        ax1.text(0.5, 1., 'Euler pole distributions',\n",
    "            horizontalalignment='center',\n",
    "            verticalalignment='bottom',\n",
    "            size = 14,\n",
    "            transform=ax1.transAxes)\n",
    "        ax2.text(0.5, 1., 'Modeled paleomagnetic poles',\n",
    "            horizontalalignment='center',\n",
    "            verticalalignment='bottom',\n",
    "            size = 14,\n",
    "            transform=ax2.transAxes)\n",
    "        ax3.text(0.5, 1., 'Plate speed distributions',\n",
    "            horizontalalignment='center',\n",
    "            verticalalignment='bottom',\n",
    "            size = 14,\n",
    "            transform=ax3.transAxes)\n",
    "    ax1.text(0., 0.5, title,\n",
    "        horizontalalignment='right',\n",
    "        verticalalignment='center',\n",
    "        rotation='vertical',\n",
    "        size=14,\n",
    "        transform=ax1.transAxes)\n",
    "    index += 3\n",
    "\n",
    "plot_row(path1, 'TPW only')\n",
    "plot_row(path3, 'TPW + one Euler rotation')\n",
    "plot_row(path4, 'Two Euler rotations')\n",
    "plot_row(path5, 'TPW + two Euler rotations')\n",
    "fig.tight_layout()\n",
    "plt.savefig('many_inversions.pdf')\n",
    "plt.show()"
   ]
  },
  {
   "cell_type": "code",
   "execution_count": null,
   "metadata": {
    "collapsed": false
   },
   "outputs": [],
   "source": [
    "fig = plt.figure( figsize = (8,11) )\n",
    "\n",
    "ax1 = plt.subplot2grid( (6,4), (0,0), colspan=2, rowspan=2, projection=ccrs.Orthographic(220.-apw_path.lon_shift, 30))\n",
    "ax2 = plt.subplot2grid( (6,4), (0,2), colspan=2, rowspan=2, projection=ccrs.Orthographic(200-apw_path.lon_shift,30.))        \n",
    "ax3 = plt.subplot2grid( (6,4), (2,0), colspan=2, rowspan=2 )\n",
    "ax4 = plt.subplot2grid( (6,4), (2,2), colspan=2, rowspan=2 )\n",
    "ax5 = plt.subplot2grid( (6,4), (4,0), colspan=4, rowspan=1 )\n",
    "ax6 = plt.subplot2grid( (6,4), (5,0), colspan=4, rowspan=1)\n",
    "\n",
    "plotting.plot_synthetic_paths(path2, poles, pole_colors, ax1)\n",
    "ax1.add_feature(laurentia)\n",
    "plotting.plot_synthetic_poles(path2, poles, pole_colors, ax2)\n",
    "plotting.plot_plate_speeds(path2, poles, ax3, '')\n",
    "plotting.make_legend(pole_names, pole_colors, ax4, 'Paleomagnetic poles')\n",
    "plotting.plot_age_samples(path2, poles, pole_colors, ax5, ax6)\n",
    "fig.tight_layout()\n",
    "plt.savefig('one_euler_pole.pdf')\n",
    "plt.show()\n"
   ]
  },
  {
   "cell_type": "code",
   "execution_count": null,
   "metadata": {
    "collapsed": false
   },
   "outputs": [],
   "source": [
    "import seaborn as sns\n",
    "\n",
    "def make_jointplot(tpw_rate, euler_rate, color, title):\n",
    "    jp = sns.jointplot(tpw_rate, euler_rate, kind=\"hex\",\\\n",
    "                       xlim=(0,4), ylim=(0,4),\n",
    "                       stat_func=None, color=color, gridsize=(20,20))\n",
    "    jp.set_axis_labels(\"TPW rate ($^\\circ$/Myr)\", \"Plate rotation rate ($^\\circ$/Myr)\")\n",
    "    jp.ax_joint.set_axis_bgcolor(\"white\")\n",
    "    plt.savefig(title+'.pdf')\n",
    "    \n",
    "\n",
    "make_jointplot(path3.tpw_rates(), path3.euler_rates()[0], 'darkred', 'one_euler_jointplot')\n",
    "make_jointplot(path5.tpw_rates(), path5.euler_rates()[0], 'darkred', 'two_euler_jointplot_1')\n",
    "make_jointplot(path5.tpw_rates(), path5.euler_rates()[1], 'darkgreen', 'two_euler_jointplot_2')\n"
   ]
  }
 ],
 "metadata": {
  "kernelspec": {
   "display_name": "Python 2",
   "language": "python",
   "name": "python2"
  },
  "language_info": {
   "codemirror_mode": {
    "name": "ipython",
    "version": 2
   },
   "file_extension": ".py",
   "mimetype": "text/x-python",
   "name": "python",
   "nbconvert_exporter": "python",
   "pygments_lexer": "ipython2",
   "version": "2.7.11"
  }
 },
 "nbformat": 4,
 "nbformat_minor": 2
}
